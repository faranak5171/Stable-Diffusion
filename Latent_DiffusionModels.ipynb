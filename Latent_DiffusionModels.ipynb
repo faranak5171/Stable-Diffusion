{
  "nbformat": 4,
  "nbformat_minor": 0,
  "metadata": {
    "colab": {
      "provenance": [],
      "authorship_tag": "ABX9TyPthkHqie0GRnBcKHNThhTy",
      "include_colab_link": true
    },
    "kernelspec": {
      "name": "python3",
      "display_name": "Python 3"
    },
    "language_info": {
      "name": "python"
    }
  },
  "cells": [
    {
      "cell_type": "markdown",
      "metadata": {
        "id": "view-in-github",
        "colab_type": "text"
      },
      "source": [
        "<a href=\"https://colab.research.google.com/github/faranak5171/Stable-Diffusion/blob/main/Latent_DiffusionModels.ipynb\" target=\"_parent\"><img src=\"https://colab.research.google.com/assets/colab-badge.svg\" alt=\"Open In Colab\"/></a>"
      ]
    },
    {
      "cell_type": "code",
      "execution_count": 4,
      "metadata": {
        "id": "8JQhLe7YiDT3"
      },
      "outputs": [],
      "source": [
        "!pip install -q diffusers==0.2.4\n",
        "!pip install -q transformers scipy ftfy\n",
        "!pip install -q \"ipywidgets>=7,<8\""
      ]
    },
    {
      "cell_type": "code",
      "source": [],
      "metadata": {
        "id": "msKV2f3kj-nw"
      },
      "execution_count": null,
      "outputs": []
    }
  ]
}